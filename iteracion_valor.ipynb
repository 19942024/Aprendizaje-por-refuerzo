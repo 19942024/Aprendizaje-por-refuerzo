{
 "cells": [
  {
   "cell_type": "markdown",
   "id": "488d5e7f-fbd9-4397-9716-6b2c6f0bd7d5",
   "metadata": {},
   "source": [
    "# Ejercicio de Iteración de Valor"
   ]
  },
  {
   "cell_type": "markdown",
   "id": "523867a0-7ad2-45b5-be87-93f668085780",
   "metadata": {},
   "source": [
    "## Instalar los requerimientos"
   ]
  },
  {
   "cell_type": "code",
   "execution_count": null,
   "id": "3728e955-5221-4825-87d3-14b1778d0cf8",
   "metadata": {},
   "outputs": [],
   "source": [
    "!pip install -r requirements.txt"
   ]
  },
  {
   "cell_type": "markdown",
   "id": "8461784e-2961-401a-8755-05c541e97b8b",
   "metadata": {},
   "source": [
    "## Importar dependencias"
   ]
  },
  {
   "cell_type": "code",
   "execution_count": 1,
   "id": "dc457908-12f0-4480-9efd-4f6e95646a94",
   "metadata": {
    "tags": []
   },
   "outputs": [],
   "source": [
    "import gymnasium as gym\n",
    "import numpy as np\n",
    "from plot_utils import plot_values"
   ]
  },
  {
   "cell_type": "markdown",
   "id": "f9aa42ab-60c4-447e-90ba-f8f30c114480",
   "metadata": {},
   "source": [
    "## Para hacer: Arregla el código para desarrollar tu algoritmo de Iteración de Valor"
   ]
  },
  {
   "cell_type": "code",
   "execution_count": 2,
   "id": "d5165ce6-bae2-4e98-bc93-2d52e9e79267",
   "metadata": {
    "tags": []
   },
   "outputs": [],
   "source": [
    "class ValueIteration:\n",
    "    def __init__(self, env: gym.Env, gamma: float, pi_error: float) -> None:\n",
    "        self.env = env  # OpenAI gym environment\n",
    "        self.gamma = gamma  # Discount factor\n",
    "        self.pi_error = pi_error  # Policy improvement error\n",
    "\n",
    "    def train(self) -> tuple[np.ndarray, np.ndarray]:\n",
    "        \"\"\"\n",
    "        Value Iteration Algorithm.\n",
    "\n",
    "        Returns:\n",
    "            policy (np.ndarray): optimal policy\n",
    "            Value  (np.ndarray): optimal value function\n",
    "        \"\"\"\n",
    "        # TODO: Fix the code\n",
    "        \n",
    "        # Random policy\n",
    "        policy = (\n",
    "            np.ones([self.env.observation_space.n, self.env.action_space.n])\n",
    "            / self.env.action_space.n\n",
    "        )\n",
    "        \n",
    "        # Random value function\n",
    "        V = np.zeros(self.env.observation_space.n)\n",
    "        return policy, V\n",
    "\n",
    "    def policy_improvement(self, V: np.ndarray) -> np.ndarray:\n",
    "        \"\"\"\n",
    "        Policy improvement.\n",
    "\n",
    "        Args:\n",
    "            V (np.ndarray): value function\n",
    "\n",
    "        Returns:\n",
    "            policy (np.ndarray): improved policy\n",
    "        \"\"\"\n",
    "        # TODO: Fix the code\n",
    "\n",
    "        policy = np.zeros([self.env.observation_space.n, self.env.action_space.n])\n",
    "\n",
    "        return policy\n",
    "\n",
    "    def get_q_from_v(self, V: np.ndarray) -> np.ndarray:\n",
    "        \"\"\"\n",
    "        Get the Q values from the value function.\n",
    "\n",
    "        Args:\n",
    "            V (np.ndarray): value function\n",
    "\n",
    "        Returns:\n",
    "            Q (np.ndarray): action-value function\n",
    "        \"\"\"\n",
    "        \n",
    "        # TODO: Fix the code\n",
    "\n",
    "        Q = np.zeros([self.env.observation_space.n, self.env.action_space.n])\n",
    "\n",
    "        return Q\n",
    "    \n",
    "    def play(self, policy: np.ndarray, render: bool = True) -> float:\n",
    "        \"\"\"\n",
    "        Play with the given policy.\n",
    "\n",
    "        Args:\n",
    "            policy (np.ndarray): policy to play with\n",
    "            render (bool): whether to render the game or not\n",
    "\n",
    "        Returns:\n",
    "            total_reward (float): total reward achieved in this episode\n",
    "        \"\"\"\n",
    "        total_reward = 0.0\n",
    "        state, _ = self.env.reset()\n",
    "        while True:\n",
    "            if render:\n",
    "                self.env.render()\n",
    "            action = np.argmax(policy[state])\n",
    "            state, reward, done, _, _ = self.env.step(action)\n",
    "            total_reward += reward\n",
    "            if done:\n",
    "                break\n",
    "        return total_reward"
   ]
  },
  {
   "cell_type": "markdown",
   "id": "12559901-f121-4144-89d6-e28cf49f844f",
   "metadata": {},
   "source": [
    "## Observa a tu agente jugar"
   ]
  },
  {
   "cell_type": "code",
   "execution_count": null,
   "id": "3db18b77-42d5-4da1-a9b9-a2f20a5ff263",
   "metadata": {
    "tags": []
   },
   "outputs": [],
   "source": [
    "size = 4  # Only 4 and 8 are supported\n",
    "env = gym.make(\n",
    "    \"FrozenLake-v1\",\n",
    "    desc=None,\n",
    "    map_name=f\"{size}x{size}\",\n",
    "    is_slippery=False,\n",
    "    render_mode=\"human\",\n",
    ")\n",
    "gamma = 0.9\n",
    "pi_error = 1e-10\n",
    "value_iteration = ValueIteration(env, gamma, pi_error)\n",
    "policy, V = value_iteration.train()\n",
    "\n",
    "value_iteration.play(policy)\n",
    "\n",
    "plot_values(V, size)"
   ]
  },
  {
   "cell_type": "markdown",
   "id": "4fa9dcf0-0173-48cc-8f8e-77dc278f539b",
   "metadata": {},
   "source": [
    "## Verifica que tu solución sea correcta\n"
   ]
  },
  {
   "cell_type": "code",
   "execution_count": null,
   "id": "f273d8d4",
   "metadata": {},
   "outputs": [],
   "source": []
  }
 ],
 "metadata": {
  "kernelspec": {
   "display_name": "Python 3",
   "language": "python",
   "name": "python3"
  },
  "language_info": {
   "codemirror_mode": {
    "name": "ipython",
    "version": 3
   },
   "file_extension": ".py",
   "mimetype": "text/x-python",
   "name": "python",
   "nbconvert_exporter": "python",
   "pygments_lexer": "ipython3",
   "version": "3.9.12"
  }
 },
 "nbformat": 4,
 "nbformat_minor": 5
}
