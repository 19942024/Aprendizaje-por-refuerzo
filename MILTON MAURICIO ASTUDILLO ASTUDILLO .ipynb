{
 "cells": [
  {
   "cell_type": "markdown",
   "id": "488d5e7f-fbd9-4397-9716-6b2c6f0bd7d5",
   "metadata": {},
   "source": [
    "# Ejercicio de Iteración de Valor"
   ]
  },
  {
   "cell_type": "markdown",
   "id": "523867a0-7ad2-45b5-be87-93f668085780",
   "metadata": {},
   "source": [
    "## Instalar los requerimientos"
   ]
  },
  {
   "cell_type": "code",
   "execution_count": 21,
   "id": "3728e955-5221-4825-87d3-14b1778d0cf8",
   "metadata": {},
   "outputs": [
    {
     "name": "stdout",
     "output_type": "stream",
     "text": [
      "Defaulting to user installation because normal site-packages is not writeable\n",
      "Requirement already satisfied: gymnasium[box2d,classic_control] in c:\\users\\pc\\appdata\\roaming\\python\\python311\\site-packages (from -r requirements.txt (line 1)) (0.29.1)\n",
      "Requirement already satisfied: torch in c:\\users\\pc\\appdata\\roaming\\python\\python311\\site-packages (from -r requirements.txt (line 2)) (2.2.2)\n",
      "Requirement already satisfied: torchvision in c:\\users\\pc\\appdata\\roaming\\python\\python311\\site-packages (from -r requirements.txt (line 3)) (0.17.2)\n",
      "Requirement already satisfied: torchaudio in c:\\users\\pc\\appdata\\roaming\\python\\python311\\site-packages (from -r requirements.txt (line 4)) (2.2.2)\n",
      "Requirement already satisfied: jupyterlab in c:\\anaconda\\lib\\site-packages (from -r requirements.txt (line 5)) (3.6.3)\n",
      "Requirement already satisfied: matplotlib in c:\\anaconda\\lib\\site-packages (from -r requirements.txt (line 6)) (3.7.2)\n",
      "Requirement already satisfied: pandas in c:\\anaconda\\lib\\site-packages (from -r requirements.txt (line 7)) (2.0.3)\n",
      "Requirement already satisfied: pydantic in c:\\anaconda\\lib\\site-packages (from -r requirements.txt (line 8)) (1.10.8)\n",
      "Requirement already satisfied: numpy>=1.21.0 in c:\\anaconda\\lib\\site-packages (from gymnasium[box2d,classic_control]->-r requirements.txt (line 1)) (1.24.3)\n",
      "Requirement already satisfied: cloudpickle>=1.2.0 in c:\\anaconda\\lib\\site-packages (from gymnasium[box2d,classic_control]->-r requirements.txt (line 1)) (2.2.1)\n",
      "Requirement already satisfied: typing-extensions>=4.3.0 in c:\\users\\pc\\appdata\\roaming\\python\\python311\\site-packages (from gymnasium[box2d,classic_control]->-r requirements.txt (line 1)) (4.11.0)\n",
      "Requirement already satisfied: farama-notifications>=0.0.1 in c:\\users\\pc\\appdata\\roaming\\python\\python311\\site-packages (from gymnasium[box2d,classic_control]->-r requirements.txt (line 1)) (0.0.4)\n",
      "Requirement already satisfied: box2d-py==2.3.5 in c:\\users\\pc\\appdata\\roaming\\python\\python311\\site-packages (from gymnasium[box2d,classic_control]->-r requirements.txt (line 1)) (2.3.5)\n",
      "Requirement already satisfied: pygame>=2.1.3 in c:\\users\\pc\\appdata\\roaming\\python\\python311\\site-packages (from gymnasium[box2d,classic_control]->-r requirements.txt (line 1)) (2.5.2)\n",
      "Requirement already satisfied: swig==4.* in c:\\users\\pc\\appdata\\roaming\\python\\python311\\site-packages (from gymnasium[box2d,classic_control]->-r requirements.txt (line 1)) (4.2.1)\n",
      "Requirement already satisfied: filelock in c:\\anaconda\\lib\\site-packages (from torch->-r requirements.txt (line 2)) (3.9.0)\n",
      "Requirement already satisfied: sympy in c:\\anaconda\\lib\\site-packages (from torch->-r requirements.txt (line 2)) (1.11.1)\n",
      "Requirement already satisfied: networkx in c:\\anaconda\\lib\\site-packages (from torch->-r requirements.txt (line 2)) (3.1)\n",
      "Requirement already satisfied: jinja2 in c:\\anaconda\\lib\\site-packages (from torch->-r requirements.txt (line 2)) (3.1.2)\n",
      "Requirement already satisfied: fsspec in c:\\anaconda\\lib\\site-packages (from torch->-r requirements.txt (line 2)) (2023.4.0)\n",
      "Requirement already satisfied: pillow!=8.3.*,>=5.3.0 in c:\\anaconda\\lib\\site-packages (from torchvision->-r requirements.txt (line 3)) (10.0.1)\n",
      "Requirement already satisfied: ipython in c:\\anaconda\\lib\\site-packages (from jupyterlab->-r requirements.txt (line 5)) (8.15.0)\n",
      "Requirement already satisfied: packaging in c:\\anaconda\\lib\\site-packages (from jupyterlab->-r requirements.txt (line 5)) (23.1)\n",
      "Requirement already satisfied: tornado>=6.1.0 in c:\\anaconda\\lib\\site-packages (from jupyterlab->-r requirements.txt (line 5)) (6.3.2)\n",
      "Requirement already satisfied: jupyter-core in c:\\anaconda\\lib\\site-packages (from jupyterlab->-r requirements.txt (line 5)) (5.3.0)\n",
      "Requirement already satisfied: jupyterlab-server~=2.19 in c:\\anaconda\\lib\\site-packages (from jupyterlab->-r requirements.txt (line 5)) (2.22.0)\n",
      "Requirement already satisfied: jupyter-server<3,>=1.16.0 in c:\\anaconda\\lib\\site-packages (from jupyterlab->-r requirements.txt (line 5)) (1.23.4)\n",
      "Requirement already satisfied: jupyter-ydoc~=0.2.3 in c:\\anaconda\\lib\\site-packages (from jupyterlab->-r requirements.txt (line 5)) (0.2.4)\n",
      "Requirement already satisfied: jupyter-server-ydoc~=0.8.0 in c:\\anaconda\\lib\\site-packages (from jupyterlab->-r requirements.txt (line 5)) (0.8.0)\n",
      "Requirement already satisfied: nbclassic in c:\\anaconda\\lib\\site-packages (from jupyterlab->-r requirements.txt (line 5)) (0.5.5)\n",
      "Requirement already satisfied: notebook<7 in c:\\anaconda\\lib\\site-packages (from jupyterlab->-r requirements.txt (line 5)) (6.5.4)\n",
      "Requirement already satisfied: contourpy>=1.0.1 in c:\\anaconda\\lib\\site-packages (from matplotlib->-r requirements.txt (line 6)) (1.0.5)\n",
      "Requirement already satisfied: cycler>=0.10 in c:\\anaconda\\lib\\site-packages (from matplotlib->-r requirements.txt (line 6)) (0.11.0)\n",
      "Requirement already satisfied: fonttools>=4.22.0 in c:\\anaconda\\lib\\site-packages (from matplotlib->-r requirements.txt (line 6)) (4.25.0)\n",
      "Requirement already satisfied: kiwisolver>=1.0.1 in c:\\anaconda\\lib\\site-packages (from matplotlib->-r requirements.txt (line 6)) (1.4.4)\n",
      "Requirement already satisfied: pyparsing<3.1,>=2.3.1 in c:\\anaconda\\lib\\site-packages (from matplotlib->-r requirements.txt (line 6)) (3.0.9)\n",
      "Requirement already satisfied: python-dateutil>=2.7 in c:\\anaconda\\lib\\site-packages (from matplotlib->-r requirements.txt (line 6)) (2.8.2)\n",
      "Requirement already satisfied: pytz>=2020.1 in c:\\anaconda\\lib\\site-packages (from pandas->-r requirements.txt (line 7)) (2023.3.post1)\n",
      "Requirement already satisfied: tzdata>=2022.1 in c:\\anaconda\\lib\\site-packages (from pandas->-r requirements.txt (line 7)) (2023.3)\n",
      "Requirement already satisfied: MarkupSafe>=2.0 in c:\\anaconda\\lib\\site-packages (from jinja2->torch->-r requirements.txt (line 2)) (2.1.1)\n",
      "Requirement already satisfied: anyio<4,>=3.1.0 in c:\\anaconda\\lib\\site-packages (from jupyter-server<3,>=1.16.0->jupyterlab->-r requirements.txt (line 5)) (3.5.0)\n",
      "Requirement already satisfied: argon2-cffi in c:\\anaconda\\lib\\site-packages (from jupyter-server<3,>=1.16.0->jupyterlab->-r requirements.txt (line 5)) (21.3.0)\n",
      "Requirement already satisfied: jupyter-client>=6.1.12 in c:\\anaconda\\lib\\site-packages (from jupyter-server<3,>=1.16.0->jupyterlab->-r requirements.txt (line 5)) (7.4.9)\n",
      "Requirement already satisfied: nbconvert>=6.4.4 in c:\\anaconda\\lib\\site-packages (from jupyter-server<3,>=1.16.0->jupyterlab->-r requirements.txt (line 5)) (6.5.4)\n",
      "Requirement already satisfied: nbformat>=5.2.0 in c:\\anaconda\\lib\\site-packages (from jupyter-server<3,>=1.16.0->jupyterlab->-r requirements.txt (line 5)) (5.9.2)\n",
      "Requirement already satisfied: prometheus-client in c:\\anaconda\\lib\\site-packages (from jupyter-server<3,>=1.16.0->jupyterlab->-r requirements.txt (line 5)) (0.14.1)\n",
      "Requirement already satisfied: pyzmq>=17 in c:\\anaconda\\lib\\site-packages (from jupyter-server<3,>=1.16.0->jupyterlab->-r requirements.txt (line 5)) (23.2.0)\n",
      "Requirement already satisfied: Send2Trash in c:\\anaconda\\lib\\site-packages (from jupyter-server<3,>=1.16.0->jupyterlab->-r requirements.txt (line 5)) (1.8.0)\n",
      "Requirement already satisfied: terminado>=0.8.3 in c:\\anaconda\\lib\\site-packages (from jupyter-server<3,>=1.16.0->jupyterlab->-r requirements.txt (line 5)) (0.17.1)\n",
      "Requirement already satisfied: traitlets>=5.1 in c:\\anaconda\\lib\\site-packages (from jupyter-server<3,>=1.16.0->jupyterlab->-r requirements.txt (line 5)) (5.7.1)\n",
      "Requirement already satisfied: websocket-client in c:\\anaconda\\lib\\site-packages (from jupyter-server<3,>=1.16.0->jupyterlab->-r requirements.txt (line 5)) (0.58.0)\n",
      "Requirement already satisfied: pywinpty in c:\\anaconda\\lib\\site-packages (from jupyter-server<3,>=1.16.0->jupyterlab->-r requirements.txt (line 5)) (2.0.10)\n",
      "Requirement already satisfied: platformdirs>=2.5 in c:\\anaconda\\lib\\site-packages (from jupyter-core->jupyterlab->-r requirements.txt (line 5)) (3.10.0)\n",
      "Requirement already satisfied: pywin32>=300 in c:\\anaconda\\lib\\site-packages (from jupyter-core->jupyterlab->-r requirements.txt (line 5)) (305.1)\n",
      "Requirement already satisfied: jupyter-server-fileid<1,>=0.6.0 in c:\\anaconda\\lib\\site-packages (from jupyter-server-ydoc~=0.8.0->jupyterlab->-r requirements.txt (line 5)) (0.9.0)\n",
      "Requirement already satisfied: ypy-websocket<0.9.0,>=0.8.2 in c:\\anaconda\\lib\\site-packages (from jupyter-server-ydoc~=0.8.0->jupyterlab->-r requirements.txt (line 5)) (0.8.2)\n",
      "Requirement already satisfied: y-py<0.6.0,>=0.5.3 in c:\\anaconda\\lib\\site-packages (from jupyter-ydoc~=0.2.3->jupyterlab->-r requirements.txt (line 5)) (0.5.9)\n",
      "Requirement already satisfied: babel>=2.10 in c:\\anaconda\\lib\\site-packages (from jupyterlab-server~=2.19->jupyterlab->-r requirements.txt (line 5)) (2.11.0)\n",
      "Requirement already satisfied: json5>=0.9.0 in c:\\anaconda\\lib\\site-packages (from jupyterlab-server~=2.19->jupyterlab->-r requirements.txt (line 5)) (0.9.6)\n",
      "Requirement already satisfied: jsonschema>=4.17.3 in c:\\anaconda\\lib\\site-packages (from jupyterlab-server~=2.19->jupyterlab->-r requirements.txt (line 5)) (4.17.3)\n",
      "Requirement already satisfied: requests>=2.28 in c:\\anaconda\\lib\\site-packages (from jupyterlab-server~=2.19->jupyterlab->-r requirements.txt (line 5)) (2.31.0)\n",
      "Requirement already satisfied: ipython-genutils in c:\\anaconda\\lib\\site-packages (from notebook<7->jupyterlab->-r requirements.txt (line 5)) (0.2.0)\n",
      "Requirement already satisfied: nest-asyncio>=1.5 in c:\\anaconda\\lib\\site-packages (from notebook<7->jupyterlab->-r requirements.txt (line 5)) (1.5.6)\n",
      "Requirement already satisfied: ipykernel in c:\\anaconda\\lib\\site-packages (from notebook<7->jupyterlab->-r requirements.txt (line 5)) (6.25.0)\n",
      "Requirement already satisfied: notebook-shim>=0.1.0 in c:\\anaconda\\lib\\site-packages (from nbclassic->jupyterlab->-r requirements.txt (line 5)) (0.2.2)\n",
      "Requirement already satisfied: six>=1.5 in c:\\anaconda\\lib\\site-packages (from python-dateutil>=2.7->matplotlib->-r requirements.txt (line 6)) (1.16.0)\n",
      "Requirement already satisfied: backcall in c:\\anaconda\\lib\\site-packages (from ipython->jupyterlab->-r requirements.txt (line 5)) (0.2.0)\n",
      "Requirement already satisfied: decorator in c:\\anaconda\\lib\\site-packages (from ipython->jupyterlab->-r requirements.txt (line 5)) (5.1.1)\n",
      "Requirement already satisfied: jedi>=0.16 in c:\\anaconda\\lib\\site-packages (from ipython->jupyterlab->-r requirements.txt (line 5)) (0.18.1)\n",
      "Requirement already satisfied: matplotlib-inline in c:\\anaconda\\lib\\site-packages (from ipython->jupyterlab->-r requirements.txt (line 5)) (0.1.6)\n",
      "Requirement already satisfied: pickleshare in c:\\anaconda\\lib\\site-packages (from ipython->jupyterlab->-r requirements.txt (line 5)) (0.7.5)\n",
      "Requirement already satisfied: prompt-toolkit!=3.0.37,<3.1.0,>=3.0.30 in c:\\anaconda\\lib\\site-packages (from ipython->jupyterlab->-r requirements.txt (line 5)) (3.0.36)\n",
      "Requirement already satisfied: pygments>=2.4.0 in c:\\anaconda\\lib\\site-packages (from ipython->jupyterlab->-r requirements.txt (line 5)) (2.15.1)\n",
      "Requirement already satisfied: stack-data in c:\\anaconda\\lib\\site-packages (from ipython->jupyterlab->-r requirements.txt (line 5)) (0.2.0)\n",
      "Requirement already satisfied: colorama in c:\\anaconda\\lib\\site-packages (from ipython->jupyterlab->-r requirements.txt (line 5)) (0.4.6)\n",
      "Requirement already satisfied: mpmath>=0.19 in c:\\anaconda\\lib\\site-packages (from sympy->torch->-r requirements.txt (line 2)) (1.3.0)\n",
      "Requirement already satisfied: idna>=2.8 in c:\\anaconda\\lib\\site-packages (from anyio<4,>=3.1.0->jupyter-server<3,>=1.16.0->jupyterlab->-r requirements.txt (line 5)) (3.4)\n",
      "Requirement already satisfied: sniffio>=1.1 in c:\\anaconda\\lib\\site-packages (from anyio<4,>=3.1.0->jupyter-server<3,>=1.16.0->jupyterlab->-r requirements.txt (line 5)) (1.2.0)\n",
      "Requirement already satisfied: parso<0.9.0,>=0.8.0 in c:\\anaconda\\lib\\site-packages (from jedi>=0.16->ipython->jupyterlab->-r requirements.txt (line 5)) (0.8.3)\n",
      "Requirement already satisfied: attrs>=17.4.0 in c:\\anaconda\\lib\\site-packages (from jsonschema>=4.17.3->jupyterlab-server~=2.19->jupyterlab->-r requirements.txt (line 5)) (22.1.0)\n",
      "Requirement already satisfied: pyrsistent!=0.17.0,!=0.17.1,!=0.17.2,>=0.14.0 in c:\\anaconda\\lib\\site-packages (from jsonschema>=4.17.3->jupyterlab-server~=2.19->jupyterlab->-r requirements.txt (line 5)) (0.18.0)\n",
      "Requirement already satisfied: entrypoints in c:\\anaconda\\lib\\site-packages (from jupyter-client>=6.1.12->jupyter-server<3,>=1.16.0->jupyterlab->-r requirements.txt (line 5)) (0.4)\n",
      "Requirement already satisfied: jupyter-events>=0.5.0 in c:\\anaconda\\lib\\site-packages (from jupyter-server-fileid<1,>=0.6.0->jupyter-server-ydoc~=0.8.0->jupyterlab->-r requirements.txt (line 5)) (0.6.3)\n",
      "Requirement already satisfied: lxml in c:\\anaconda\\lib\\site-packages (from nbconvert>=6.4.4->jupyter-server<3,>=1.16.0->jupyterlab->-r requirements.txt (line 5)) (4.9.3)\n",
      "Requirement already satisfied: beautifulsoup4 in c:\\anaconda\\lib\\site-packages (from nbconvert>=6.4.4->jupyter-server<3,>=1.16.0->jupyterlab->-r requirements.txt (line 5)) (4.12.2)\n",
      "Requirement already satisfied: bleach in c:\\anaconda\\lib\\site-packages (from nbconvert>=6.4.4->jupyter-server<3,>=1.16.0->jupyterlab->-r requirements.txt (line 5)) (4.1.0)\n",
      "Requirement already satisfied: defusedxml in c:\\anaconda\\lib\\site-packages (from nbconvert>=6.4.4->jupyter-server<3,>=1.16.0->jupyterlab->-r requirements.txt (line 5)) (0.7.1)\n",
      "Requirement already satisfied: jupyterlab-pygments in c:\\anaconda\\lib\\site-packages (from nbconvert>=6.4.4->jupyter-server<3,>=1.16.0->jupyterlab->-r requirements.txt (line 5)) (0.1.2)\n",
      "Requirement already satisfied: mistune<2,>=0.8.1 in c:\\anaconda\\lib\\site-packages (from nbconvert>=6.4.4->jupyter-server<3,>=1.16.0->jupyterlab->-r requirements.txt (line 5)) (0.8.4)\n",
      "Requirement already satisfied: nbclient>=0.5.0 in c:\\anaconda\\lib\\site-packages (from nbconvert>=6.4.4->jupyter-server<3,>=1.16.0->jupyterlab->-r requirements.txt (line 5)) (0.5.13)\n",
      "Requirement already satisfied: pandocfilters>=1.4.1 in c:\\anaconda\\lib\\site-packages (from nbconvert>=6.4.4->jupyter-server<3,>=1.16.0->jupyterlab->-r requirements.txt (line 5)) (1.5.0)\n",
      "Requirement already satisfied: tinycss2 in c:\\anaconda\\lib\\site-packages (from nbconvert>=6.4.4->jupyter-server<3,>=1.16.0->jupyterlab->-r requirements.txt (line 5)) (1.2.1)\n",
      "Requirement already satisfied: fastjsonschema in c:\\anaconda\\lib\\site-packages (from nbformat>=5.2.0->jupyter-server<3,>=1.16.0->jupyterlab->-r requirements.txt (line 5)) (2.16.2)\n",
      "Requirement already satisfied: wcwidth in c:\\anaconda\\lib\\site-packages (from prompt-toolkit!=3.0.37,<3.1.0,>=3.0.30->ipython->jupyterlab->-r requirements.txt (line 5)) (0.2.5)\n",
      "Requirement already satisfied: charset-normalizer<4,>=2 in c:\\anaconda\\lib\\site-packages (from requests>=2.28->jupyterlab-server~=2.19->jupyterlab->-r requirements.txt (line 5)) (2.0.4)\n",
      "Requirement already satisfied: urllib3<3,>=1.21.1 in c:\\anaconda\\lib\\site-packages (from requests>=2.28->jupyterlab-server~=2.19->jupyterlab->-r requirements.txt (line 5)) (1.26.16)\n",
      "Requirement already satisfied: certifi>=2017.4.17 in c:\\anaconda\\lib\\site-packages (from requests>=2.28->jupyterlab-server~=2.19->jupyterlab->-r requirements.txt (line 5)) (2023.11.17)\n",
      "Requirement already satisfied: aiofiles<23,>=22.1.0 in c:\\anaconda\\lib\\site-packages (from ypy-websocket<0.9.0,>=0.8.2->jupyter-server-ydoc~=0.8.0->jupyterlab->-r requirements.txt (line 5)) (22.1.0)\n",
      "Requirement already satisfied: aiosqlite<1,>=0.17.0 in c:\\anaconda\\lib\\site-packages (from ypy-websocket<0.9.0,>=0.8.2->jupyter-server-ydoc~=0.8.0->jupyterlab->-r requirements.txt (line 5)) (0.18.0)\n",
      "Requirement already satisfied: argon2-cffi-bindings in c:\\anaconda\\lib\\site-packages (from argon2-cffi->jupyter-server<3,>=1.16.0->jupyterlab->-r requirements.txt (line 5)) (21.2.0)\n",
      "Requirement already satisfied: comm>=0.1.1 in c:\\anaconda\\lib\\site-packages (from ipykernel->notebook<7->jupyterlab->-r requirements.txt (line 5)) (0.1.2)\n",
      "Requirement already satisfied: debugpy>=1.6.5 in c:\\anaconda\\lib\\site-packages (from ipykernel->notebook<7->jupyterlab->-r requirements.txt (line 5)) (1.6.7)\n",
      "Requirement already satisfied: psutil in c:\\anaconda\\lib\\site-packages (from ipykernel->notebook<7->jupyterlab->-r requirements.txt (line 5)) (5.9.0)\n",
      "Requirement already satisfied: executing in c:\\anaconda\\lib\\site-packages (from stack-data->ipython->jupyterlab->-r requirements.txt (line 5)) (0.8.3)\n",
      "Requirement already satisfied: asttokens in c:\\anaconda\\lib\\site-packages (from stack-data->ipython->jupyterlab->-r requirements.txt (line 5)) (2.0.5)\n",
      "Requirement already satisfied: pure-eval in c:\\anaconda\\lib\\site-packages (from stack-data->ipython->jupyterlab->-r requirements.txt (line 5)) (0.2.2)\n",
      "Requirement already satisfied: python-json-logger>=2.0.4 in c:\\anaconda\\lib\\site-packages (from jupyter-events>=0.5.0->jupyter-server-fileid<1,>=0.6.0->jupyter-server-ydoc~=0.8.0->jupyterlab->-r requirements.txt (line 5)) (2.0.7)\n",
      "Requirement already satisfied: pyyaml>=5.3 in c:\\anaconda\\lib\\site-packages (from jupyter-events>=0.5.0->jupyter-server-fileid<1,>=0.6.0->jupyter-server-ydoc~=0.8.0->jupyterlab->-r requirements.txt (line 5)) (6.0)\n",
      "Requirement already satisfied: rfc3339-validator in c:\\anaconda\\lib\\site-packages (from jupyter-events>=0.5.0->jupyter-server-fileid<1,>=0.6.0->jupyter-server-ydoc~=0.8.0->jupyterlab->-r requirements.txt (line 5)) (0.1.4)\n",
      "Requirement already satisfied: rfc3986-validator>=0.1.1 in c:\\anaconda\\lib\\site-packages (from jupyter-events>=0.5.0->jupyter-server-fileid<1,>=0.6.0->jupyter-server-ydoc~=0.8.0->jupyterlab->-r requirements.txt (line 5)) (0.1.1)\n",
      "Requirement already satisfied: cffi>=1.0.1 in c:\\anaconda\\lib\\site-packages (from argon2-cffi-bindings->argon2-cffi->jupyter-server<3,>=1.16.0->jupyterlab->-r requirements.txt (line 5)) (1.15.1)\n",
      "Requirement already satisfied: soupsieve>1.2 in c:\\anaconda\\lib\\site-packages (from beautifulsoup4->nbconvert>=6.4.4->jupyter-server<3,>=1.16.0->jupyterlab->-r requirements.txt (line 5)) (2.4)\n",
      "Requirement already satisfied: webencodings in c:\\anaconda\\lib\\site-packages (from bleach->nbconvert>=6.4.4->jupyter-server<3,>=1.16.0->jupyterlab->-r requirements.txt (line 5)) (0.5.1)\n",
      "Requirement already satisfied: pycparser in c:\\anaconda\\lib\\site-packages (from cffi>=1.0.1->argon2-cffi-bindings->argon2-cffi->jupyter-server<3,>=1.16.0->jupyterlab->-r requirements.txt (line 5)) (2.21)\n",
      "Requirement already satisfied: fqdn in c:\\users\\pc\\appdata\\roaming\\python\\python311\\site-packages (from jsonschema>=4.17.3->jupyterlab-server~=2.19->jupyterlab->-r requirements.txt (line 5)) (1.5.1)\n",
      "Requirement already satisfied: isoduration in c:\\users\\pc\\appdata\\roaming\\python\\python311\\site-packages (from jsonschema>=4.17.3->jupyterlab-server~=2.19->jupyterlab->-r requirements.txt (line 5)) (20.11.0)\n",
      "Requirement already satisfied: jsonpointer>1.13 in c:\\anaconda\\lib\\site-packages (from jsonschema>=4.17.3->jupyterlab-server~=2.19->jupyterlab->-r requirements.txt (line 5)) (2.1)\n",
      "Requirement already satisfied: uri-template in c:\\users\\pc\\appdata\\roaming\\python\\python311\\site-packages (from jsonschema>=4.17.3->jupyterlab-server~=2.19->jupyterlab->-r requirements.txt (line 5)) (1.3.0)\n",
      "Requirement already satisfied: webcolors>=1.11 in c:\\users\\pc\\appdata\\roaming\\python\\python311\\site-packages (from jsonschema>=4.17.3->jupyterlab-server~=2.19->jupyterlab->-r requirements.txt (line 5)) (1.13)\n",
      "Requirement already satisfied: arrow>=0.15.0 in c:\\anaconda\\lib\\site-packages (from isoduration->jsonschema>=4.17.3->jupyterlab-server~=2.19->jupyterlab->-r requirements.txt (line 5)) (1.2.3)\n"
     ]
    }
   ],
   "source": [
    "!pip install -r requirements.txt"
   ]
  },
  {
   "cell_type": "markdown",
   "id": "8461784e-2961-401a-8755-05c541e97b8b",
   "metadata": {},
   "source": [
    "## Importar dependencias"
   ]
  },
  {
   "cell_type": "code",
   "execution_count": 22,
   "id": "ac5a7e5d",
   "metadata": {},
   "outputs": [
    {
     "name": "stdout",
     "output_type": "stream",
     "text": [
      "Defaulting to user installation because normal site-packages is not writeable\n",
      "Requirement already satisfied: gym in c:\\users\\pc\\appdata\\roaming\\python\\python311\\site-packages (0.26.2)\n",
      "Requirement already satisfied: numpy>=1.18.0 in c:\\anaconda\\lib\\site-packages (from gym) (1.24.3)\n",
      "Requirement already satisfied: cloudpickle>=1.2.0 in c:\\anaconda\\lib\\site-packages (from gym) (2.2.1)\n",
      "Requirement already satisfied: gym-notices>=0.0.4 in c:\\users\\pc\\appdata\\roaming\\python\\python311\\site-packages (from gym) (0.0.8)\n",
      "Note: you may need to restart the kernel to use updated packages.\n"
     ]
    }
   ],
   "source": [
    "pip install gym"
   ]
  },
  {
   "cell_type": "code",
   "execution_count": 1,
   "id": "dc457908-12f0-4480-9efd-4f6e95646a94",
   "metadata": {
    "tags": []
   },
   "outputs": [],
   "source": [
    "import gymnasium as gym\n",
    "import numpy as np\n",
    "from plot_utils import plot_values"
   ]
  },
  {
   "cell_type": "markdown",
   "id": "f9aa42ab-60c4-447e-90ba-f8f30c114480",
   "metadata": {},
   "source": [
    "## Para hacer: Arregla el código para desarrollar tu algoritmo de Iteración de Valor"
   ]
  },
  {
   "cell_type": "code",
   "execution_count": 19,
   "id": "0f27d7c8",
   "metadata": {},
   "outputs": [],
   "source": [
    "import gym\n",
    "import numpy as np\n",
    "\n",
    "class ValueIteration:\n",
    "    def __init__(self, env: gym.Env, gamma: float, epsilon: float) -> None:\n",
    "        \"\"\"\n",
    "        Inicializa el algoritmo de iteración de valor.\n",
    "\n",
    "        Args:\n",
    "            env (gym.Env): Entorno OpenAI gym.\n",
    "            gamma (float): Factor de descuento.\n",
    "            epsilon (float): Umbral de convergencia.\n",
    "        \"\"\"\n",
    "        self.env = env  # Entorno OpenAI gym\n",
    "        self.gamma = gamma  # Factor de descuento\n",
    "        # Las recompensas para cada estado se inicializan a 0, excepto para el estado final que tiene una recompensa de 1.\n",
    "        self.reward = {i: 0.0 for i in range(env.observation_space.n)}\n",
    "        self.reward[env.observation_space.n - 1] = 1.0\n",
    "        self.epsilon = epsilon  # Umbral de convergencia\n",
    "        # La función de valor se inicializa con ceros.\n",
    "        self.V = np.zeros(env.observation_space.n)  # Función de valor inicial\n",
    "\n",
    "    def train(self) -> np.ndarray:\n",
    "        \"\"\"\n",
    "        Algoritmo de iteración de valor.\n",
    "\n",
    "        Retorna:\n",
    "            policy (np.ndarray): Política óptima.\n",
    "        \"\"\"\n",
    "        while True:\n",
    "            delta = 0\n",
    "            # Itera sobre todos los estados del entorno.\n",
    "            for state in range(self.env.observation_space.n):\n",
    "                v = self.V[state]\n",
    "                # Calcula el valor para cada acción en el estado actual.\n",
    "                action_values = [self.calculate_q(state, action) for action in range(self.env.action_space.n)]\n",
    "                # Actualiza el valor del estado actual con el máximo valor de las acciones posibles.\n",
    "                self.V[state] = max(action_values)\n",
    "                # Calcula el cambio máximo en los valores de la función de valor.\n",
    "                delta = max(delta, abs(v - self.V[state]))\n",
    "            # Verifica la convergencia.\n",
    "            if delta < self.epsilon:\n",
    "                break\n",
    "        \n",
    "        # Calcula la política óptima.\n",
    "        policy = self.calculate_policy()\n",
    "        return policy, self.V\n",
    "\n",
    "    def calculate_q(self, state: int, action: int) -> float:\n",
    "        \"\"\"\n",
    "        Calcula el valor Q para un estado y una acción dados.\n",
    "\n",
    "        Args:\n",
    "            state (int): Estado actual.\n",
    "            action (int): Acción a tomar.\n",
    "\n",
    "        Returns:\n",
    "            q_value (float): Valor Q.\n",
    "        \"\"\"\n",
    "        q_value = 0\n",
    "        # Itera sobre las posibles transiciones desde el estado y acción dados.\n",
    "        for prob, next_state, reward, _ in self.env.P[state][action]:\n",
    "            # Aplica la ecuación de Bellman para calcular el valor Q.\n",
    "            q_value += prob * (self.reward[state] + self.gamma * self.V[next_state])\n",
    "        return q_value\n",
    "\n",
    "    def calculate_policy(self) -> np.ndarray:\n",
    "        \"\"\"\n",
    "        Calcula la política óptima basada en la función de valor actual.\n",
    "\n",
    "        Returns:\n",
    "            policy (np.ndarray): Política óptima.\n",
    "        \"\"\"\n",
    "        policy = np.zeros(self.env.observation_space.n, dtype=int)\n",
    "        # Para cada estado, calcula el valor para cada acción y selecciona la acción con el valor más alto como la acción óptima.\n",
    "        for state in range(self.env.observation_space.n):\n",
    "            action_values = [self.calculate_q(state, action) for action in range(self.env.action_space.n)]\n",
    "            policy[state] = np.argmax(action_values)\n",
    "        return policy\n",
    "\n",
    "    def play(self, policy: np.ndarray, render: bool = True) -> float:\n",
    "        \"\"\"\n",
    "        Juega utilizando la política dada.\n",
    "\n",
    "        Args:\n",
    "            policy (np.ndarray): Política a seguir.\n",
    "            render (bool): Indica si renderizar o no.\n",
    "\n",
    "        Returns:\n",
    "            total_reward (float): Recompensa total obtenida.\n",
    "        \"\"\"\n",
    "        total_reward = 0.0\n",
    "        state, _ = self.env.reset()\n",
    "        while True:\n",
    "            if render:\n",
    "                self.env.render()\n",
    "            action = policy[state]\n",
    "            state, reward, done, _, _ = self.env.step(action)\n",
    "            total_reward += reward\n",
    "            # Si el juego termina y la recompensa es diferente de cero, se detiene.\n",
    "            if done and reward != 0:                \n",
    "                break\n",
    "            else:\n",
    "                # Si el juego termina y la recompensa es cero, se reinicia el entorno.\n",
    "                if done and reward == 0:\n",
    "                    observation, info = self.env.reset()\n",
    "        return total_reward\n"
   ]
  },
  {
   "cell_type": "markdown",
   "id": "12559901-f121-4144-89d6-e28cf49f844f",
   "metadata": {},
   "source": [
    "## Observa a tu agente jugar"
   ]
  },
  {
   "cell_type": "code",
   "execution_count": 20,
   "id": "3db18b77-42d5-4da1-a9b9-a2f20a5ff263",
   "metadata": {
    "tags": []
   },
   "outputs": [
    {
     "data": {
      "image/png": "[encoded data removed]",
      "text/plain": [
       "<Figure size 320x320 with 1 Axes>"
      ]
     },
     "metadata": {},
     "output_type": "display_data"
    },
    {
     "name": "stdout",
     "output_type": "stream",
     "text": [
      "Optimal policy:\n",
      "[0 3 0 3 0 0 0 0 3 1 0 0 0 2 1 0]\n",
      "Total reward: 9.999999999142268\n"
     ]
    }
   ],
   "source": [
    "size = 4  # Only 4 and 8 are supported\n",
    "env = gym.make(\n",
    "    \"FrozenLake-v1\",\n",
    "    desc=None,\n",
    "    map_name=f\"{size}x{size}\",\n",
    "    is_slippery=True,\n",
    "    render_mode=\"human\",\n",
    ")\n",
    "gamma: float = 0.9\n",
    "pi_error: float = 1e-10\n",
    "\n",
    "# Run policy iteration\n",
    "value_iteration = ValueIteration(env, gamma, pi_error)\n",
    "policy, V = value_iteration.train()\n",
    "\n",
    "value_iteration.play(policy)\n",
    "env.close()\n",
    "plot_values(V, size)\n",
    "# Mostrar la política óptima\n",
    "print(\"Optimal policy:\")\n",
    "print(policy)\n",
    "\n",
    "# Calcular la recompensa esperada\n",
    "expected_reward = V[15]\n",
    "print(\"Total reward:\", expected_reward)"
   ]
  },
  {
   "cell_type": "markdown",
   "id": "4fa9dcf0-0173-48cc-8f8e-77dc278f539b",
   "metadata": {},
   "source": [
    "## Verifica que tu solución sea correcta\n"
   ]
  },
  {
   "cell_type": "code",
   "execution_count": 21,
   "id": "fdb19b99",
   "metadata": {},
   "outputs": [],
   "source": [
    "# Define la política óptima para el entorno FrozenLake\n",
    "optimal_policy = [0, 3, 0, 3, 0, 0, 0, 0, 3, 1, 0, 0, 0, 2, 1, 0]\n",
    "\n",
    "# Crea una instancia del entorno FrozenLake\n",
    "size = 4\n",
    "env = gym.make(\n",
    "    \"FrozenLake-v1\",\n",
    "    desc=None,\n",
    "    map_name=f\"{size}x{size}\",\n",
    "    is_slippery=True,\n",
    "    render_mode=\"human\",\n",
    ")\n",
    "\n",
    "# Aplica la política óptima al entorno FrozenLake\n",
    "env.env.P = np.array(optimal_policy)\n",
    "\n",
    "# Ejecuta el juego con la política óptima\n",
    "state = env.reset()[0]  # Reinicia el estado del entorno\n",
    "done = False  # Inicializa el indicador de finalización del juego\n",
    "while not done:\n",
    "    env.render()  # Renderiza el estado actual del entorno\n",
    "    action = optimal_policy[state]  # Obtiene la acción de la política óptima\n",
    "    state, _, done, _ = env.step(action)[:4]  # Ejecuta la acción en el entorno y obtiene el próximo estado\n",
    "\n",
    "# Cierra la ventana de renderizado al finalizar\n",
    "env.close()\n"
   ]
  },
  {
   "cell_type": "markdown",
   "id": "87b6b592",
   "metadata": {},
   "source": [
    "Al aplicar una política óptima predefinida al entorno FrozenLake y ejecutar el juego utilizando esta política, se ha observado el desempeño del agente en el entorno. Esto nos permite evaluar cómo el agente se comporta según la política seleccionada y comprender mejor su rendimiento en el entorno del juego."
   ]
  }
 ],
 "metadata": {
  "kernelspec": {
   "display_name": "Python 3 (ipykernel)",
   "language": "python",
   "name": "python3"
  },
  "language_info": {
   "codemirror_mode": {
    "name": "ipython",
    "version": 3
   },
   "file_extension": ".py",
   "mimetype": "text/x-python",
   "name": "python",
   "nbconvert_exporter": "python",
   "pygments_lexer": "ipython3",
   "version": "3.11.5"
  }
 },
 "nbformat": 4,
 "nbformat_minor": 5
}
